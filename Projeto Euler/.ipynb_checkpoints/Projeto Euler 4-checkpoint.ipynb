{
 "cells": [
  {
   "cell_type": "code",
   "execution_count": 65,
   "metadata": {},
   "outputs": [],
   "source": [
    "from math import ceil\n",
    "\n",
    "for pri in range(999,101,-1):\n",
    "    for seg in range(pri,101,-1):\n",
    "        a = str(pri*seg);\n",
    "        for n in range(ceil(len(a)/2)):\n",
    "            p=(1 if a[n-1]==a[-n] else 0)\n",
    "            if p==0:\n",
    "                break\n",
    "        if p==1:\n",
    "            break\n",
    "    if p==1:\n",
    "        break"
   ]
  },
  {
   "cell_type": "code",
   "execution_count": 67,
   "metadata": {},
   "outputs": [
    {
     "data": {
      "text/plain": [
       "998"
      ]
     },
     "execution_count": 67,
     "metadata": {},
     "output_type": "execute_result"
    }
   ],
   "source": [
    "pri"
   ]
  },
  {
   "cell_type": "code",
   "execution_count": null,
   "metadata": {
    "collapsed": true
   },
   "outputs": [],
   "source": []
  }
 ],
 "metadata": {
  "kernelspec": {
   "display_name": "Python 3",
   "language": "python",
   "name": "python3"
  }
 },
 "nbformat": 4,
 "nbformat_minor": 2
}
