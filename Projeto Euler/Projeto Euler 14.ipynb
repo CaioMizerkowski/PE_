{
 "cells": [
  {
   "cell_type": "code",
   "execution_count": null,
   "metadata": {},
   "outputs": [],
   "source": [
    "tam = 0;\n",
    "num = 0;\n",
    "for x in range(1,int(1e6)):\n",
    "    n=x;\n",
    "    ntam = 0;\n",
    "    while n!=1:\n",
    "        n=(3*n+1 if n%2 else n/2)\n",
    "        ntam += 1;\n",
    "    if ntam>tam: num,tam=x,ntam;\n",
    "num"
   ]
  },
  {
   "cell_type": "code",
   "execution_count": null,
   "metadata": {
    "collapsed": true
   },
   "outputs": [],
   "source": []
  },
  {
   "cell_type": "code",
   "execution_count": null,
   "metadata": {
    "collapsed": true
   },
   "outputs": [],
   "source": []
  }
 ],
 "metadata": {
  "kernelspec": {
   "display_name": "Python 3",
   "language": "python",
   "name": "python3"
  },
  "language_info": {
   "codemirror_mode": {
    "name": "ipython",
    "version": 3
   },
   "file_extension": ".py",
   "mimetype": "text/x-python",
   "name": "python",
   "nbconvert_exporter": "python",
   "pygments_lexer": "ipython3",
   "version": "3.6.1"
  }
 },
 "nbformat": 4,
 "nbformat_minor": 2
}
